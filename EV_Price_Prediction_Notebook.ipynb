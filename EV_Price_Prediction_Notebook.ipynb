{
 "cells": [
  {
   "cell_type": "markdown",
   "id": "a4783551",
   "metadata": {},
   "source": [
    "# EV Price Prediction Notebook\n",
    "\n",
    "This notebook analyzes the `ev_dataset.csv` dataset and trains regression models to predict EV prices."
   ]
  },
  {
   "cell_type": "code",
   "execution_count": null,
   "id": "474f63dc",
   "metadata": {},
   "outputs": [],
   "source": [
    "import pandas as pd\n",
    "import matplotlib.pyplot as plt\n",
    "df = pd.read_csv('ev_dataset.csv')\n",
    "df.head()"
   ]
  }
 ],
 "metadata": {},
 "nbformat": 4,
 "nbformat_minor": 5
}
